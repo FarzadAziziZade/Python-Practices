{
 "cells": [
  {
   "cell_type": "code",
   "execution_count": 45,
   "metadata": {},
   "outputs": [
    {
     "name": "stdout",
     "output_type": "stream",
     "text": [
      "number in greek: I, II, III, IV, ...\n"
     ]
    }
   ],
   "source": [
    "def my_dictionary():\n",
    "    num=dict()\n",
    "    num[\"str(1)\"]=\"I\"\n",
    "    num[\"str(2)\"]=\"II\"\n",
    "    num[\"str(3)\"]=\"III\"\n",
    "    num[\"str(4)\"]=\"IV\"\n",
    "    return num\n",
    "\n",
    "dictionary=my_dictionary()\n",
    "greek_string=\"number in greek: {str(1)}, {str(2)}, {str(3)}, {str(4)}, ...\".format(**dictionary)\n",
    "print(greek_string)"
   ]
  },
  {
   "cell_type": "code",
   "execution_count": 46,
   "metadata": {},
   "outputs": [
    {
     "name": "stdout",
     "output_type": "stream",
     "text": [
      "GeeksforGeeks is a Computer Science Portal.\n"
     ]
    }
   ],
   "source": [
    "# Initializing a value\n",
    "value = {\"Company\": \"GeeksforGeeks\", \n",
    "         \"Department\": \"Computer Science\"}\n",
    "  \n",
    "# Calling the .format() function\n",
    "# over the above given value\n",
    "print(\"{Company} is a {Department} Portal.\".format(**value))"
   ]
  }
 ],
 "metadata": {
  "interpreter": {
   "hash": "ac59ebe37160ed0dfa835113d9b8498d9f09ceb179beaac4002f036b9467c963"
  },
  "kernelspec": {
   "display_name": "Python 3.9.6 64-bit",
   "language": "python",
   "name": "python3"
  },
  "language_info": {
   "codemirror_mode": {
    "name": "ipython",
    "version": 3
   },
   "file_extension": ".py",
   "mimetype": "text/x-python",
   "name": "python",
   "nbconvert_exporter": "python",
   "pygments_lexer": "ipython3",
   "version": "3.9.6"
  },
  "orig_nbformat": 4
 },
 "nbformat": 4,
 "nbformat_minor": 2
}
